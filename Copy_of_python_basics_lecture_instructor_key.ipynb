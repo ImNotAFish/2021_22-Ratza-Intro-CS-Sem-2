{
  "nbformat": 4,
  "nbformat_minor": 0,
  "metadata": {
    "colab": {
      "name": "Copy of python_basics_lecture_instructor_key.ipynb",
      "provenance": [],
      "collapsed_sections": [],
      "include_colab_link": true
    },
    "kernelspec": {
      "name": "python3",
      "display_name": "Python 3"
    },
    "language_info": {
      "name": "python"
    }
  },
  "cells": [
    {
      "cell_type": "markdown",
      "metadata": {
        "id": "view-in-github",
        "colab_type": "text"
      },
      "source": [
        "<a href=\"https://colab.research.google.com/github/ImNotAFish/2021_22-Ratza-Intro-CS-Sem-2/blob/main/Copy_of_python_basics_lecture_instructor_key.ipynb\" target=\"_parent\"><img src=\"https://colab.research.google.com/assets/colab-badge.svg\" alt=\"Open In Colab\"/></a>"
      ]
    },
    {
      "cell_type": "markdown",
      "source": [
        "# Welcome to the Python Programming Language\n",
        "----"
      ],
      "metadata": {
        "id": "EwaevImlAByU"
      }
    },
    {
      "cell_type": "markdown",
      "source": [
        "Python comes highly recommended as a first language for those new to programming because of its wide adoption, ease of use, and large community. According to [Wikipedia](https://en.wikipedia.org/wiki/Python_(programming_language)):\n",
        "\n",
        "> Guido van Rossum began working on Python in the late 1980s, as a successor to the ABC programming language, and first released it in 1991 as Python 0.9.0. Python 2.0 was released in 2000 and introduced new features, such as list comprehensions and a cycle-detecting garbage collection system (in addition to reference counting). Python 3.0 was released in 2008 and was a major revision of the language that is not completely backward-compatible. Python 2 was discontinued with version 2.7.18 in 2020.\n",
        "\n",
        "Python is a **general use** language, meaning that it has a wide variety of applications and use cases. Today Python is used in almost every industry for things like artificial intelligence engineering, web design, financial modelling and planning, healthcare and many more. Python can be used to create **front end** components like web applications and desktop GUIs (Graphical User Interface). Front end components are those components of an application that a user can interact with. They are likely what you're currently most familiar with. They are the buttons, search bars, and pages you click and manipulate when you use a computer application. As you will learn however there is much more to even a simple application or program than the front end. The **back end** components of an application are abstracted away from the user by the front end but consist of components like databases, APIs (application program interface), caches and more. Don't worry if you're a little confused at this point but if you would like to know more about the difference between the front and back end of an application an article is available [here](https://kenzie.snhu.edu/blog/front-end-vs-back-end-whats-the-difference/) (*hint: this might be helpful for the assignment*).\n",
        "\n"
      ],
      "metadata": {
        "id": "5IoqBZJ2AL8F"
      }
    },
    {
      "cell_type": "markdown",
      "source": [
        "### Colab and Jupyter\n",
        "\n",
        "What we're using right now is what is called a **Jupyter notebook**. Jupyter notebooks provide a web-based, interactive and shareable runtime for Python and other languages. This notebook is hosted in the cloud (read: someone else's computer) by Google Collaboratory which allows users to run Jupyter notebooks using Google's servers.\n",
        "\n",
        "Having a ready to go environment will allow us to explore and become familiar with the language without having to worry about more complex set up processes.\n",
        "\n",
        "Running the cell below will bring up a helpful video for getting started with Google Colab."
      ],
      "metadata": {
        "id": "ZfOEEHGJZCkF"
      }
    },
    {
      "cell_type": "code",
      "source": [
        "from IPython.display import HTML\n",
        "\n",
        "HTML(\"\"\"\n",
        "<iframe width=\"560\" height=\"315\" src=\"https://www.youtube.com/embed/inN8seMm7UI\"\n",
        "        title=\"YouTube video player\" frameborder=\"0\" \n",
        "        allow=\"accelerometer; autoplay; clipboard-write; encrypted-media; gyroscope; picture-in-picture\" allowfullscreen>\n",
        "</iframe>\n",
        "\"\"\")"
      ],
      "metadata": {
        "colab": {
          "base_uri": "https://localhost:8080/",
          "height": 336
        },
        "id": "NjJ0E5tOZBlk",
        "outputId": "c255c857-26e1-4a27-c29a-0bda87a06c97"
      },
      "execution_count": null,
      "outputs": [
        {
          "data": {
            "text/plain": "<IPython.core.display.HTML object>",
            "text/html": "\n<iframe width=\"560\" height=\"315\" src=\"https://www.youtube.com/embed/inN8seMm7UI\"\n        title=\"YouTube video player\" frameborder=\"0\" \n        allow=\"accelerometer; autoplay; clipboard-write; encrypted-media; gyroscope; picture-in-picture\" allowfullscreen>\n</iframe>\n"
          },
          "execution_count": 1,
          "metadata": {},
          "output_type": "execute_result"
        }
      ]
    },
    {
      "cell_type": "markdown",
      "source": [
        "### Open Source Software (OSS)\n",
        "\n",
        "In addition to Python's numerous contributions and use cases in a variety of industries it has also been at the forefront of the **open source** community. According to another behemoth in the open source community, [RedHat](https://www.redhat.com/en/topics/open-source/what-is-open-source):\n",
        "\n",
        ">Open source is a term that originally referred to open source software (OSS). Open source software is code that is designed to be publicly accessible—anyone can see, modify, and distribute the code as they see fit.\n",
        ">\n",
        ">Open source software is developed in a decentralized and collaborative way, relying on peer review and community production. Open source software is often cheaper, more flexible, and has more longevity than its proprietary peers because it is developed by communities rather than a single author or company.\n",
        ">\n",
        ">Open source has become a movement and a way of working that reaches beyond software production. The open source movement uses the values and decentralized production model of open source software to find new ways to solve problems in their communities and industries.\n",
        "\n",
        "One of the great benefits of open source collaboration is being to able to work with a diverse community of contributors with unique perspectives. As a consequence, the open source community has also been leading the charge making programming and tech a more inclusive and equitable space for all. This culture and philosophy has directly had an impact on the history of Python and is even codified into the language via the Python Software Foudation's [Code of Conduct](https://www.python.org/psf/conduct/):\n",
        "\n",
        "```\n",
        "Every member of our community has the right to have their identity respected. The Python community is dedicated to providing a positive experience for everyone, regardless of age, gender identity and expression, sexual orientation, disability, physical appearance, body size, ethnicity, nationality, race, or religion (or lack thereof), education, or socio-economic status.\n",
        "```"
      ],
      "metadata": {
        "id": "EiUdNo-ZQOtE"
      }
    },
    {
      "cell_type": "markdown",
      "source": [
        "### The Zen of Python\n",
        "\n",
        "Python is designed to be a user friendly and straightforward language first and foremost. Python has a clearly defined process for enhancements or changes to the language. These are referred to a Python Enhancement Proposals or PEPs. For a PEP to be accepted it must go through a rigorous process in addition to acquiring substantial support from the community. One of the first proposals accepted [PEP 20](https://www.python.org/dev/peps/pep-0020/) outlines the design philosophy and principles in Python. It has since been made available as an easter egg in the language itself.\n",
        "\n",
        "Let's run the first code cell below\n",
        "(<kbd>Shift</kbd> + <kbd>Enter</kbd>) to bring it up!"
      ],
      "metadata": {
        "id": "6V9PJ0NEWp_t"
      }
    },
    {
      "cell_type": "code",
      "source": [
        "print[\"hello world\"]"
      ],
      "metadata": {
        "id": "Nz_SGyEKYdX2",
        "colab": {
          "base_uri": "https://localhost:8080/",
          "height": 165
        },
        "outputId": "9c07c916-2340-4ea8-c1d1-9cb7ad392021"
      },
      "execution_count": 8,
      "outputs": [
        {
          "output_type": "error",
          "ename": "TypeError",
          "evalue": "ignored",
          "traceback": [
            "\u001b[0;31m---------------------------------------------------------------------------\u001b[0m",
            "\u001b[0;31mTypeError\u001b[0m                                 Traceback (most recent call last)",
            "\u001b[0;32m<ipython-input-8-b31bf0f2e240>\u001b[0m in \u001b[0;36m<module>\u001b[0;34m()\u001b[0m\n\u001b[0;32m----> 1\u001b[0;31m \u001b[0mprint\u001b[0m\u001b[0;34m[\u001b[0m\u001b[0;34m\"hello world\"\u001b[0m\u001b[0;34m]\u001b[0m\u001b[0;34m\u001b[0m\u001b[0;34m\u001b[0m\u001b[0m\n\u001b[0m",
            "\u001b[0;31mTypeError\u001b[0m: 'builtin_function_or_method' object is not subscriptable"
          ]
        }
      ]
    },
    {
      "cell_type": "markdown",
      "source": [
        "These aphormisms encapsulate what it means to write Pythonic code, or code that favors useability, simplicity and extensibility."
      ],
      "metadata": {
        "id": "NVLMulj2YM4S"
      }
    },
    {
      "cell_type": "markdown",
      "source": [
        "### The Development Environment"
      ],
      "metadata": {
        "id": "-fksgEMBvLYL"
      }
    },
    {
      "cell_type": "markdown",
      "source": [
        "Before we can start planning the next great start up that will compete with Facebook and Google we need to familiarize ourselves with some terms and concepts. As you're no doubt already aware the computer in front of you is made up of various complex components, physical and virtual, that together provide you with a way to access the tools that have become a part of daily life for nearly everyone.\n",
        "\n",
        "**So what exactly is a development environment?**\n",
        "\n",
        "No we're not talking about the vibe of the room you're sitting in, a **development environment** is where a programmer, or developer, does their work. A development environment can be **remote**, meaning it can be accessed through the internet or other network like the one you are using now. A dev environment can also be **local**, a local environemnt exists on the PC in front of you with all the tools installed and requires no internet access.\n",
        "\n",
        "**What are the parts of a development environment?**\n",
        "\n",
        "The lowest level of the environment that most of you are familiar with is the **operating system**, or OS. The operating system is the majority of people interact with the computer. It provides graphical and user friendly interfaces for users to interact with. However the operating system is itself the combination of a number of other programs working behind the scenes **abstracted** away from the end user. Many of you are familiar with Microsoft's Windows operating system"
      ],
      "metadata": {
        "id": "NKZVly-ovcDk"
      }
    },
    {
      "cell_type": "markdown",
      "source": [
        "### Operating System\n",
        "\n",
        "At some point each of us have probably taken a peak into our desktops or seen the inside of a computer at the very least. The computer is made up of various hardware components. Memory, CPU, SSDs they work together to make a powerful machine that has undoubtedly changed the face of the planet as well as the trajectory of humanity. Your operating system is the thing in between you and those very expensive pieces of sand and precious metals. A typical OS usually breaks down something like this:\n",
        "\n",
        "#### The Kernel\n",
        "\n",
        "The kernel is what gives the operating system control over the various bits and pieces that make up our computers. For Windows users that is NT, which has been around for a while. For those on Mac and Linux there are less noticeable differences as both can trace their roots back to the days of Unix and BSD\n",
        "\n",
        "#### User Interfaces\n",
        "\n",
        "This is what we are most familiar with interacting with. There are 2 distinct user interfaces at play. The Terminal User Interface (TUI) and the Graphical User Interface (GUI) This is what allows us to issue commands to do certain things whether from the command line or by click buttons. These are front end components.\n",
        "\n",
        "#### Application Program Interfaces\n",
        "\n",
        "APIs define interactions between programs and services and how they interact with the operating system. Typically front end components will communicate with APIs that execute the functionality expected by the user.\n",
        "\n",
        "Let's take a look at what operating system Colab is using:"
      ],
      "metadata": {
        "id": "2PcrQwh_F4o_"
      }
    },
    {
      "cell_type": "code",
      "source": [
        "!echo $SHELL\n"
      ],
      "metadata": {
        "id": "e39y7lFaHvZD",
        "colab": {
          "base_uri": "https://localhost:8080/"
        },
        "outputId": "0eab78d9-c807-4924-fe88-96108b388542"
      },
      "execution_count": 1,
      "outputs": [
        {
          "output_type": "stream",
          "name": "stdout",
          "text": [
            "/bin/bash\n"
          ]
        }
      ]
    },
    {
      "cell_type": "markdown",
      "source": [
        "Without getting too much into the weeds here we can see that Colab is running the Ubuntu Linux Distribution. Historically the Python community has trended towards UNIX based system like Mac and Linux and you will find that on many Linux distributions that Python is even installed by default and used by the operating system itself."
      ],
      "metadata": {
        "id": "NuZ3yqy3H-Bj"
      }
    },
    {
      "cell_type": "markdown",
      "source": [
        "### Shell and Terminal\n",
        "\n",
        "From [Wikipedia](https://en.wikipedia.org/wiki/Shell_(computing)#cite_note-Economist-1):\n",
        "\n",
        ">In computing, a shell is a computer program which exposes an operating system's services to a human user or other programs. In general, operating system shells use either a command-line interface (CLI) or graphical user interface (GUI), depending on a computer's role and particular operation. It is named a shell because it is the outermost layer around the operating system.\n",
        "\n",
        "We can check the shell we are using in Colab by running the following cell:"
      ],
      "metadata": {
        "id": "GfsGQw5AGLCZ"
      }
    },
    {
      "cell_type": "markdown",
      "source": [
        "The Bourne Again Shell, or bash for short, is a unix shell originally written and released in 1989. It was also the default shell for MacOS systems until 2019 when it was replaced by `zsh`. Shell programs like bash and zsh, or DOS and Powershell in Windows, while not being the focus of this course are languages in their own right and capable of many of the same things as modern programming language like Python. \n",
        "\n",
        "The way we interact with the shell is via the terminal. In Colab the terminal is represented by the code cells which allow you to execute scripts and code snippets in a reproducible, controlled environment."
      ],
      "metadata": {
        "id": "84mop3fzGOgt"
      }
    },
    {
      "cell_type": "markdown",
      "source": [
        "### Interpreter\n",
        "\n",
        "There are two primary types of programming languages, compiled and interpreted. For now it is enough to understand that the Python interpreter (CPython) is what converts the code you write into something capable of being interpreted by a machine. \n",
        "\n",
        "Interpreters like the video games and apps you are already familiar with are improved over time and so different versions have different features an capabilities.\n",
        "\n",
        "We can check the Python version we're currently using with the following command:"
      ],
      "metadata": {
        "id": "AXVUoU4_OZN_"
      }
    },
    {
      "cell_type": "code",
      "source": [
        "type(\"hello world\")\n"
      ],
      "metadata": {
        "id": "ncbexsBMQCWo",
        "colab": {
          "base_uri": "https://localhost:8080/"
        },
        "outputId": "1d40a1c6-b943-42c5-d37b-19d6067e399f"
      },
      "execution_count": 20,
      "outputs": [
        {
          "output_type": "execute_result",
          "data": {
            "text/plain": [
              "str"
            ]
          },
          "metadata": {},
          "execution_count": 20
        }
      ]
    },
    {
      "cell_type": "markdown",
      "source": [
        "## So let's get started with our first lines of code\n",
        "\n",
        "As is tradition we will begin with the \"Hello, World!\" exercise."
      ],
      "metadata": {
        "id": "JwllsWKnuU2W"
      }
    },
    {
      "cell_type": "code",
      "source": [
        "greeting1=(\"your\")\n",
        "greeting2=(\"mom\")\n",
        "print(greeting1+\" scrimbly \"+greeting2)"
      ],
      "metadata": {
        "id": "nMjHmE4su3Vk",
        "colab": {
          "base_uri": "https://localhost:8080/"
        },
        "outputId": "35fb7708-eeaa-4820-e1cb-229e93e3eff2"
      },
      "execution_count": 46,
      "outputs": [
        {
          "output_type": "stream",
          "name": "stdout",
          "text": [
            "your scrimbly mom\n"
          ]
        }
      ]
    },
    {
      "cell_type": "markdown",
      "source": [
        "Well maybe it isn't so simple after all. We ran into our first error. When the code we give to the interpreter doesn't work then the interpreter will return an exception, or error, message letting us know what the issue is. Here we have a **syntax error**. Syntax is the programming equivalent of grammar, it refers to the structure of the code and the rules about that structure. In this instance the error is due to the fact that we can't just pass raw text to the interpreter without letting it know to expect text.\n",
        "\n",
        "Text data types are referred to as **strings**, as in strings of text characters. To identify text as a string in Python we need to place it in quotes. So let's try again."
      ],
      "metadata": {
        "id": "Gd3mS_aYVODY"
      }
    },
    {
      "cell_type": "code",
      "source": [
        "help()"
      ],
      "metadata": {
        "id": "rsGdFP6cu7FF",
        "colab": {
          "base_uri": "https://localhost:8080/",
          "height": 1000
        },
        "outputId": "92cb5f00-c120-43d4-8dbe-be59ba467c42"
      },
      "execution_count": null,
      "outputs": [
        {
          "output_type": "stream",
          "name": "stdout",
          "text": [
            "\n",
            "Welcome to Python 3.7's help utility!\n",
            "\n",
            "If this is your first time using Python, you should definitely check out\n",
            "the tutorial on the Internet at https://docs.python.org/3.7/tutorial/.\n",
            "\n",
            "Enter the name of any module, keyword, or topic to get help on writing\n",
            "Python programs and using Python modules.  To quit this help utility and\n",
            "return to the interpreter, just type \"quit\".\n",
            "\n",
            "To get a list of available modules, keywords, symbols, or topics, type\n",
            "\"modules\", \"keywords\", \"symbols\", or \"topics\".  Each module also comes\n",
            "with a one-line summary of what it does; to list the modules whose name\n",
            "or summary contain a given string such as \"spam\", type \"modules spam\".\n",
            "\n",
            "help> modules\n",
            "\n",
            "Please wait a moment while I gather a list of all available modules...\n",
            "\n"
          ]
        },
        {
          "output_type": "stream",
          "name": "stderr",
          "text": [
            "/usr/local/lib/python3.7/dist-packages/IPython/kernel/__init__.py:13: ShimWarning: The `IPython.kernel` package has been deprecated since IPython 4.0.You should import from ipykernel or jupyter_client instead.\n",
            "  \"You should import from ipykernel or jupyter_client instead.\", ShimWarning)\n",
            "WARNING: AstropyDeprecationWarning: The private astropy._erfa module has been made into its own package, pyerfa, which is a dependency of astropy and can be imported directly using \"import erfa\" [astropy._erfa]\n",
            "/usr/local/lib/python3.7/dist-packages/datascience/tables.py:17: MatplotlibDeprecationWarning:\n",
            "\n",
            "The 'warn' parameter of use() is deprecated since Matplotlib 3.1 and will be removed in 3.3.  If any parameter follows 'warn', they should be pass as keyword, not positionally.\n",
            "\n",
            "/usr/local/lib/python3.7/dist-packages/datascience/util.py:10: MatplotlibDeprecationWarning:\n",
            "\n",
            "The 'warn' parameter of use() is deprecated since Matplotlib 3.1 and will be removed in 3.3.  If any parameter follows 'warn', they should be pass as keyword, not positionally.\n",
            "\n"
          ]
        },
        {
          "output_type": "stream",
          "name": "stdout",
          "text": [
            "Downloading http://dlib.net/files/shape_predictor_68_face_landmarks.dat.bz2 to /root/mlxtend_data/shape_predictor_68_face_landmarks.dat.bz2\n"
          ]
        },
        {
          "output_type": "stream",
          "name": "stderr",
          "text": [
            "/usr/lib/python3.7/pkgutil.py:92: UserWarning:\n",
            "\n",
            "The DICOM readers are highly experimental, unstable, and only work for Siemens time-series at the moment\n",
            "Please use with caution.  We would be grateful for your help in improving them\n",
            "\n",
            "/usr/local/lib/python3.7/dist-packages/nltk/twitter/__init__.py:20: UserWarning:\n",
            "\n",
            "The twython library has not been installed. Some functionality from the twitter package will not be available.\n",
            "\n",
            "/usr/local/lib/python3.7/dist-packages/psycopg2/__init__.py:144: UserWarning:\n",
            "\n",
            "The psycopg2 wheel package will be renamed from release 2.8; in order to keep installing from binary please use \"pip install psycopg2-binary\" instead. For details see: <http://initd.org/psycopg/docs/install.html#binary-install-from-pypi>.\n",
            "\n",
            "WARNING:pystan:This submodule contains experimental code, please use with caution\n"
          ]
        },
        {
          "output_type": "stream",
          "name": "stdout",
          "text": [
            "No CUDA runtime is found, using CUDA_HOME='/usr/local/cuda'\n",
            "Cython              colorcet            kapre               re\n",
            "IPython             colorlover          keras               readline\n",
            "OpenGL              colorsys            keras_preprocessing regex\n",
            "PIL                 community           keyword             reprlib\n",
            "ScreenResolution    compileall          kiwisolver          requests\n",
            "__future__          concurrent          korean_lunar_calendar requests_oauthlib\n",
            "_abc                configparser        lib2to3             resampy\n",
            "_argon2_cffi_bindings contextlib          libfuturize         resource\n",
            "_ast                contextlib2         libpasteurize       retrying\n",
            "_asyncio            contextvars         librosa             rlcompleter\n",
            "_bisect             convertdate         lightgbm            rmagic\n",
            "_blake2             copy                linecache           rpy2\n",
            "_bootlocale         copyreg             llvmlite            rsa\n",
            "_bz2                coverage            lmdb                runpy\n",
            "_cffi_backend       coveralls           locale              samples\n",
            "_codecs             crcmod              logging             sched\n",
            "_codecs_cn          crypt               lsb_release         scipy\n",
            "_codecs_hk          csv                 lunarcalendar       scs\n",
            "_codecs_iso2022     ctypes              lxml                seaborn\n",
            "_codecs_jp          cufflinks           lzma                secrets\n",
            "_codecs_kr          curses              macpath             select\n",
            "_codecs_tw          cv2                 mailbox             selectors\n",
            "_collections        cvxopt              mailcap             semver\n",
            "_collections_abc    cvxpy               markdown            send2trash\n",
            "_compat_pickle      cycler              markupsafe          setuptools\n",
            "_compression        cymem               marshal             setuptools_git\n",
            "_contextvars        cython              math                shapely\n",
            "_crypt              cythonmagic         matplotlib          shelve\n",
            "_csv                daft                matplotlib_inline   shlex\n",
            "_ctypes             dask                matplotlib_venn     shutil\n",
            "_ctypes_test        dataclasses         mimetypes           signal\n",
            "_curses             datascience         missingno           simplegeneric\n",
            "_curses_panel       datetime            mistune             site\n",
            "_cvxcore            dateutil            mizani              sitecustomize\n",
            "_datetime           dbm                 mlxtend             six\n",
            "_dbm                dbus                mmap                skimage\n",
            "_decimal            debugpy             modulefinder        sklearn\n",
            "_distutils_hack     decimal             more_itertools      sklearn_pandas\n",
            "_dummy_thread       decorator           moviepy             slugify\n",
            "_ecos               defusedxml          mpmath              smart_open\n",
            "_elementtree        descartes           msgpack             smtpd\n",
            "_functools          difflib             multiprocess        smtplib\n",
            "_hashlib            dill                multiprocessing     sndhdr\n",
            "_heapq              dis                 multitasking        snowballstemmer\n",
            "_imp                distributed         murmurhash          socket\n",
            "_io                 distutils           music21             socketserver\n",
            "_json               dlib                natsort             socks\n",
            "_locale             docopt              nbclient            sockshandler\n",
            "_lsprof             docs                nbconvert           softwareproperties\n",
            "_lzma               doctest             nbformat            sortedcontainers\n",
            "_markupbase         docutils            nest_asyncio        soundfile\n",
            "_md5                dopamine            netCDF4             spacy\n",
            "_multibytecodec     dot_parser          netrc               sphinx\n",
            "_multiprocess       dummy_threading     networkx            spwd\n",
            "_multiprocessing    easydict            nibabel             sql\n",
            "_opcode             ecos                nis                 sqlalchemy\n",
            "_operator           editdistance        nisext              sqlite3\n",
            "_osx_support        ee                  nltk                sqlparse\n",
            "_pickle             email               nntplib             sre_compile\n",
            "_plotly_future_     en_core_web_sm      notebook            sre_constants\n",
            "_plotly_utils       encodings           ntpath              sre_parse\n",
            "_posixsubprocess    entrypoints         nturl2path          srsly\n",
            "_py_abc             enum                numba               ssl\n",
            "_pydecimal          ephem               numbergen           stat\n",
            "_pyio               erfa                numbers             statistics\n",
            "_pyrsistent_version errno               numexpr             statsmodels\n",
            "_pytest             et_xmlfile          numpy               storemagic\n",
            "_queue              examples            nvidia_smi          string\n",
            "_random             fa2                 oauth2client        stringprep\n",
            "_rinterface_cffi_abi fastai              oauthlib            struct\n",
            "_rinterface_cffi_api fastdtw             ogr                 subprocess\n",
            "_scs_direct         fastprogress        okgrade             sunau\n",
            "_scs_indirect       fastrlock           opcode              symbol\n",
            "_sha1               faulthandler        openpyxl            sympy\n",
            "_sha256             fbprophet           operator            sympyprinting\n",
            "_sha3               fcntl               opt_einsum          symtable\n",
            "_sha512             feather             optparse            sys\n",
            "_signal             filecmp             os                  sysconfig\n",
            "_sitebuiltins       fileinput           osgeo               syslog\n",
            "_socket             filelock            osqp                tables\n",
            "_soundfile          firebase_admin      osqppurepy          tabnanny\n",
            "_sqlite3            fix_yahoo_finance   osr                 tabulate\n",
            "_sre                flask               ossaudiodev         tarfile\n",
            "_ssl                flatbuffers         packaging           tblib\n",
            "_stat               fnmatch             palettable          telnetlib\n",
            "_string             folium              pandas              tempfile\n",
            "_strptime           formatter           pandas_datareader   tensorboard\n",
            "_struct             fractions           pandas_gbq          tensorboard_data_server\n",
            "_symtable           ftplib              pandas_profiling    tensorboard_plugin_wit\n",
            "_sysconfigdata_m_linux_x86_64-linux-gnu functools           pandocfilters       tensorflow\n",
            "_testbuffer         future              panel               tensorflow_datasets\n",
            "_testcapi           gast                param               tensorflow_estimator\n",
            "_testimportmultiple gc                  parser              tensorflow_gcs_config\n",
            "_testmultiphase     gdal                parso               tensorflow_hub\n",
            "_thread             gdalconst           past                tensorflow_io_gcs_filesystem\n",
            "_threading_local    gdalnumeric         pasta               tensorflow_metadata\n",
            "_tkinter            gdown               pathlib             tensorflow_probability\n",
            "_tracemalloc        genericpath         patsy               termcolor\n",
            "_warnings           gensim              pdb                 terminado\n",
            "_weakref            geographiclib       pep517              termios\n",
            "_weakrefset         geopy               pexpect             test\n",
            "_xxtestfuzz         getopt              pickle              testpath\n",
            "abc                 getpass             pickleshare         tests\n",
            "absl                gettext             pickletools         text_unidecode\n",
            "aifc                gi                  pip                 textblob\n",
            "alabaster           gin                 pipes               textwrap\n",
            "albumentations      github2pypi         piptools            theano\n",
            "altair              glob                pkg_resources       thinc\n",
            "antigravity         glob2               pkgutil             this\n",
            "apiclient           gnm                 plac                threading\n",
            "appdirs             google_auth_httplib2 plac_core           threadpoolctl\n",
            "apt                 google_auth_oauthlib plac_ext            tifffile\n",
            "apt_inst            google_drive_downloader plac_tk             time\n",
            "apt_pkg             googleapiclient     platform            timeit\n",
            "aptsources          googlesearch        plistlib            tkinter\n",
            "argcomplete         graphviz            plotly              tlz\n",
            "argon2              greenlet            plotlywidget        token\n",
            "argparse            gridfs              plotnine            tokenize\n",
            "array               grp                 pluggy              toml\n",
            "arviz               grpc                pooch               tomli\n",
            "ast                 gspread             poplib              toolz\n",
            "astor               gspread_dataframe   portpicker          torch\n",
            "astropy             gym                 posix               torchaudio\n",
            "astunparse          gzip                posixpath           torchsummary\n",
            "asynchat            h5py                pprint              torchtext\n",
            "asyncio             hashlib             prefetch_generator  torchvision\n",
            "asyncore            heapdict            preshed             tornado\n",
            "atari_py            heapq               prettytable         tqdm\n",
            "atexit              hijri_converter     profile             trace\n",
            "atomicwrites        hmac                progressbar         traceback\n",
            "attr                holidays            prometheus_client   tracemalloc\n",
            "attrs               holoviews           promise             traitlets\n",
            "audioop             html                prompt_toolkit      tree\n",
            "audioread           html5lib            pstats              tty\n",
            "autograd            http                psutil              turtle\n",
            "autoreload          httpimport          psycopg2            tweepy\n",
            "babel               httplib2            pty                 typeguard\n",
            "backcall            httplib2shim        ptyprocess          types\n",
            "base64              humanize            pvectorc            typing\n",
            "bdb                 hyperopt            pwd                 typing_extensions\n",
            "bin                 ideep4py            py                  tzlocal\n",
            "binascii            idna                py_compile          unicodedata\n",
            "binhex              imageio             pyarrow             unittest\n",
            "bisect              imagesize           pyasn1              uritemplate\n",
            "bleach              imaplib             pyasn1_modules      urllib\n",
            "blis                imblearn            pyclbr              urllib3\n",
            "bokeh               imgaug              pycocotools         uu\n",
            "boost               imghdr              pycparser           uuid\n",
            "bottleneck          imp                 pyct                vega_datasets\n",
            "branca              importlib           pydata_google_auth  venv\n",
            "bs4                 importlib_metadata  pydoc               vis\n",
            "bson                importlib_resources pydoc_data          warnings\n",
            "builtins            imutils             pydot               wasabi\n",
            "bz2                 inflect             pydot_ng            wave\n",
            "cProfile            iniconfig           pydotplus           wcwidth\n",
            "cachecontrol        inspect             pydrive             weakref\n",
            "cached_property     intervaltree        pyemd               webbrowser\n",
            "cachetools          io                  pyexpat             webencodings\n",
            "caffe2              ipaddress           pyglet              werkzeug\n",
            "calendar            ipykernel           pygments            wheel\n",
            "catalogue           ipykernel_launcher  pygtkcompat         widgetsnbextension\n",
            "certifi             ipython_genutils    pylab               wordcloud\n",
            "cffi                ipywidgets          pymc3               wrapt\n",
            "cftime              isympy              pymeeus             wsgiref\n",
            "cgi                 itertools           pymongo             xarray\n",
            "cgitb               itsdangerous        pymystem3           xdrlib\n",
            "chardet             jax                 pynvml              xgboost\n",
            "charset_normalizer  jaxlib              pyparsing           xkit\n",
            "chess               jdcal               pyrsistent          xlrd\n",
            "chunk               jedi                pysndfile           xlwt\n",
            "clang               jieba               pystan              xml\n",
            "click               jinja2              pytest              xmlrpc\n",
            "client              joblib              python_utils        xxlimited\n",
            "cloudpickle         jpeg4py             pytz                xxsubtype\n",
            "cmake               json                pyviz_comms         yaml\n",
            "cmath               jsonschema          pywt                yellowbrick\n",
            "cmd                 jupyter             pyximport           zict\n",
            "cmdstanpy           jupyter_client      qdldl               zipapp\n",
            "code                jupyter_console     qtconsole           zipfile\n",
            "codecs              jupyter_core        qtpy                zipimport\n",
            "codeop              jupyterlab_pygments queue               zipp\n",
            "colab               jupyterlab_widgets  quopri              zlib\n",
            "collections         kaggle              random              zmq\n",
            "\n",
            "Enter any module name to get more help.  Or, type \"modules spam\" to search\n",
            "for modules whose name or summary contain the string \"spam\".\n",
            "\n"
          ]
        }
      ]
    },
    {
      "cell_type": "markdown",
      "source": [
        "We can print numbers too. There are two major numerical data types in Python - **floats** and **integers**. Integers, or ints, are whole numbers, while floats, or floating point numbers, are like decimals."
      ],
      "metadata": {
        "id": "XLZVKSujWUtG"
      }
    },
    {
      "cell_type": "code",
      "source": [
        ""
      ],
      "metadata": {
        "id": "exgoSm2MWRHm"
      },
      "execution_count": null,
      "outputs": []
    },
    {
      "cell_type": "markdown",
      "source": [
        "The lines of code we have just written form what are called statements, or **expressions**. We can think of these like sentences, [in English a complete sentence consists of a subject and a predicate](https://arts.uottawa.ca/writingcentre/en/hypergrammar/the-parts-of-the-sentence). In programming the requirement is somewhat simpler, an expression must be able to be evaluated by the compiler or interpreter.\n",
        "\n",
        "The expressions above (print statements) are evaluated at runtime but we can also have declaritve statements, such as when [variables](https://en.wikipedia.org/wiki/Variable_(computer_science)) and [constants](https://en.wikipedia.org/wiki/Constant_(computer_programming)).\n",
        "\n",
        "In Python we can declare variables quite simply using the assignment operator `=`. Let's declare our first variable in Python."
      ],
      "metadata": {
        "id": "OONcLNe3-sRw"
      }
    },
    {
      "cell_type": "code",
      "source": [
        ""
      ],
      "metadata": {
        "id": "bwluupQ_W0jP"
      },
      "execution_count": null,
      "outputs": []
    },
    {
      "cell_type": "markdown",
      "source": [
        "Notice that there was no output produced by the above code cell because the we have only declared the variable. We can now reference the variable inside another statement."
      ],
      "metadata": {
        "id": "FEtL5cy4Cy8o"
      }
    },
    {
      "cell_type": "code",
      "source": [
        ""
      ],
      "metadata": {
        "id": "u1vEyKEKCvCx"
      },
      "execution_count": null,
      "outputs": []
    },
    {
      "cell_type": "markdown",
      "source": [
        "We can even combine strings in a print statment using the `+` operator."
      ],
      "metadata": {
        "id": "8JZHAr6LM6Uo"
      }
    },
    {
      "cell_type": "code",
      "source": [
        ""
      ],
      "metadata": {
        "id": "Un4qFVwdMPxs"
      },
      "execution_count": null,
      "outputs": []
    },
    {
      "cell_type": "markdown",
      "source": [
        "Throughout the rest of this course we will dive deeper into what we have already discussed as well as many other things. Congratulations on taking the first steps towards becoming a Pythonista!"
      ],
      "metadata": {
        "id": "m9dTmDG3N3pW"
      }
    }
  ]
}